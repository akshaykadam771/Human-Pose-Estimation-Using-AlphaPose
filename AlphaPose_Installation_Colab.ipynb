{
  "nbformat": 4,
  "nbformat_minor": 0,
  "metadata": {
    "colab": {
      "name": "AlphaPose_Installation_Colab.ipynb",
      "provenance": [],
      "collapsed_sections": []
    },
    "kernelspec": {
      "name": "python3",
      "display_name": "Python 3"
    }
  },
  "cells": [
    {
      "cell_type": "code",
      "metadata": {
        "id": "8-YyPxWHFVYL"
      },
      "source": [
        "!pip uninstall torch torchvision"
      ],
      "execution_count": null,
      "outputs": []
    },
    {
      "cell_type": "code",
      "metadata": {
        "id": "6-Ipbr3uFxSA"
      },
      "source": [
        "!pip3 install torch==1.1.0 torchvision==0.3.0"
      ],
      "execution_count": null,
      "outputs": []
    },
    {
      "cell_type": "code",
      "metadata": {
        "id": "ZhPVpwHBFz2T"
      },
      "source": [
        "import os\n",
        "RESEARCH_DIR = \"/content/drive/My Drive\"\n",
        "os.chdir(RESEARCH_DIR)\n",
        "os.getcwd()"
      ],
      "execution_count": null,
      "outputs": []
    },
    {
      "cell_type": "code",
      "metadata": {
        "id": "KZHaSA6fF3Qe"
      },
      "source": [
        "!git clone https://github.com/MVIG-SJTU/AlphaPose.git"
      ],
      "execution_count": null,
      "outputs": []
    },
    {
      "cell_type": "code",
      "metadata": {
        "id": "Vbb4tBzKGBm7"
      },
      "source": [
        "RESEARCH_DIR = \"/content/drive/My Drive/AlphaPose\"\n",
        "os.chdir(RESEARCH_DIR)\n",
        "os.getcwd()"
      ],
      "execution_count": null,
      "outputs": []
    },
    {
      "cell_type": "code",
      "metadata": {
        "id": "eqW8BAwbGEL-"
      },
      "source": [
        "!export PATH=/usr/local/cuda/bin/:$PATH"
      ],
      "execution_count": null,
      "outputs": []
    },
    {
      "cell_type": "code",
      "metadata": {
        "id": "3PXmotwpGGmK"
      },
      "source": [
        "!export LD_LIBRARY_PATH=/usr/local/cuda/lib64/:$LD_LIBRARY_PATH"
      ],
      "execution_count": null,
      "outputs": []
    },
    {
      "cell_type": "code",
      "metadata": {
        "id": "1l2MXdc5GJMN"
      },
      "source": [
        "!pip install cython"
      ],
      "execution_count": null,
      "outputs": []
    },
    {
      "cell_type": "code",
      "metadata": {
        "id": "qmFRCQ-oGMNm"
      },
      "source": [
        "!sudo apt-get install libyaml-dev"
      ],
      "execution_count": null,
      "outputs": []
    },
    {
      "cell_type": "code",
      "metadata": {
        "id": "NmlM4f37GRgb"
      },
      "source": [
        "!python setup.py build develop --user"
      ],
      "execution_count": null,
      "outputs": []
    },
    {
      "cell_type": "code",
      "metadata": {
        "id": "ma93-CV9GSb-"
      },
      "source": [
        "!python -m pip install Pillow==6.2.1"
      ],
      "execution_count": null,
      "outputs": []
    },
    {
      "cell_type": "code",
      "metadata": {
        "id": "Tg_juG1MGVI7"
      },
      "source": [
        "!pip install -U PyYAML"
      ],
      "execution_count": null,
      "outputs": []
    },
    {
      "cell_type": "code",
      "metadata": {
        "id": "9DWE-8deGXaY"
      },
      "source": [
        ""
      ],
      "execution_count": null,
      "outputs": []
    },
    {
      "cell_type": "code",
      "metadata": {
        "id": "b_5-Rv1sGaVM"
      },
      "source": [
        "# Testing with Images"
      ],
      "execution_count": null,
      "outputs": []
    },
    {
      "cell_type": "code",
      "metadata": {
        "id": "hlyfDdgeGbNM"
      },
      "source": [
        "!python scripts/demo_inference.py --cfg configs/coco/resnet/256x192_res50_lr1e-3_1x.yaml --checkpoint pretrained_models/fast_res50_256x192.pth --indir examples/demo_images/ --save_img"
      ],
      "execution_count": null,
      "outputs": []
    },
    {
      "cell_type": "code",
      "metadata": {
        "id": "tYy4-DiZGgEg"
      },
      "source": [
        ""
      ],
      "execution_count": null,
      "outputs": []
    },
    {
      "cell_type": "code",
      "metadata": {
        "id": "cz_Mdw2QGgOO"
      },
      "source": [
        "# Testing with Videos"
      ],
      "execution_count": null,
      "outputs": []
    },
    {
      "cell_type": "code",
      "metadata": {
        "id": "4BeZ3CdGGgfd"
      },
      "source": [
        "!python scripts/demo_inference.py --cfg configs/coco/resnet/256x192_res50_lr1e-3_1x.yaml --checkpoint pretrained_models/fast_res50_256x192.pth --video examples/demo_video/demo.mp4 --outdir examples/res1 --save_video --gpus 0"
      ],
      "execution_count": null,
      "outputs": []
    }
  ]
}